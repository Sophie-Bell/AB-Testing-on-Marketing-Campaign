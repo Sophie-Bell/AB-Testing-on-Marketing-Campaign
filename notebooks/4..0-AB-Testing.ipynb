{
 "cells": [
  {
   "cell_type": "code",
   "execution_count": 14,
   "metadata": {},
   "outputs": [],
   "source": [
    "# Import Libraries\n",
    "import pandas as pd\n",
    "import matplotlib.pyplot as plt\n",
    "import numpy as np\n",
    "import seaborn as sns\n",
    "import pickle\n",
    "from scipy.stats import mannwhitneyu"
   ]
  },
  {
   "cell_type": "code",
   "execution_count": 15,
   "metadata": {},
   "outputs": [],
   "source": [
    "# Load df\n",
    "with open(\"../data/processed/control_df_processed.pkl\", \"rb\") as file:\n",
    "    control_df = pickle.load(file)\n",
    "    \n",
    "with open(\"../data/processed/test_df_processed.pkl\", \"rb\") as file:\n",
    "    test_df = pickle.load(file)"
   ]
  },
  {
   "cell_type": "markdown",
   "metadata": {},
   "source": [
    "For CPA:\n",
    "\n",
    "**Null Hypothesis (H0):** There is no significant difference in the Cost Per Acquisition (CPA) between the control group (Group A) and the test group (Group B).\n",
    "\n",
    "**Alternative Hypothesis (H1):** There is a significant difference in the Cost Per Acquisition (CPA) between the control group (Group A) and the test group (Group B).\n",
    "\n",
    "<br>\n",
    "\n",
    "For CPC:\n",
    "\n",
    "**Null Hypothesis (H0)**: There is no significant difference in the Cost Per Click (CPC) between the control group (Group A) and the test group (Group B).\n",
    "\n",
    "**Alternative Hypothesis (H1):** There is a significant difference in the Cost Per Click (CPC) between the control group (Group A) and the test group (Group B).\n",
    "\n",
    "\n",
    "\n",
    "\n"
   ]
  },
  {
   "cell_type": "code",
   "execution_count": 16,
   "metadata": {},
   "outputs": [
    {
     "name": "stdout",
     "output_type": "stream",
     "text": [
      "Mann-Whitney U Test for CPC:\n",
      "Statistic = 450.0000\n",
      "p-value = 0.8260\n",
      "\n",
      "Mann-Whitney U Test for CPA:\n",
      "Statistic = 362.0000\n",
      "p-value = 0.2717\n",
      "\n",
      "Fail to reject the null hypothesis for CPC. There is no significant difference.\n",
      "Fail to reject the null hypothesis for CPA. There is no significant difference.\n"
     ]
    }
   ],
   "source": [
    "# Perform Mann-Whitney U test for CPC\n",
    "statistic_cpc, p_value_cpc = mannwhitneyu(control_df['CPC'], test_df['CPC'])\n",
    "\n",
    "# Perform Mann-Whitney U test for CPA\n",
    "statistic_cpa, p_value_cpa = mannwhitneyu(control_df['CPA'], test_df['CPA'])\n",
    "\n",
    "# Print the results\n",
    "print(f'Mann-Whitney U Test for CPC:\\n'\n",
    "      f'Statistic = {statistic_cpc:.4f}\\n'\n",
    "      f'p-value = {p_value_cpc:.4f}\\n')\n",
    "\n",
    "print(f'Mann-Whitney U Test for CPA:\\n'\n",
    "      f'Statistic = {statistic_cpa:.4f}\\n'\n",
    "      f'p-value = {p_value_cpa:.4f}\\n')\n",
    "\n",
    "\n",
    "alpha = 0.05  # Set your significance level\n",
    "if p_value_cpc < alpha:\n",
    "    print('Reject the null hypothesis for CPC. There is a significant difference.')\n",
    "else:\n",
    "    print('Fail to reject the null hypothesis for CPC. There is no significant difference.')\n",
    "\n",
    "if p_value_cpa < alpha:\n",
    "    print('Reject the null hypothesis for CPA. There is a significant difference.')\n",
    "else:\n",
    "    print('Fail to reject the null hypothesis for CPA. There is no significant difference.')\n"
   ]
  },
  {
   "cell_type": "code",
   "execution_count": null,
   "metadata": {},
   "outputs": [],
   "source": []
  },
  {
   "cell_type": "markdown",
   "metadata": {},
   "source": [
    "For Conversion Rate:\n",
    "\n",
    "**Null Hypothesis (H0):** There is no significant difference in the Conversion Rate between the control group (Group A) and the test group (Group B).\n",
    "\n",
    "**Alternative Hypothesis (H1):** There is a significant difference in the Conversion Rate between the control group (Group A) and the test group (Group B).\n",
    "\n",
    "\n",
    "<br>\n",
    "\n",
    "For CTR (Click-Through Rate):\n",
    "\n",
    "**Null Hypothesis (H0):** There is no significant difference in the Click-Through Rate (CTR) between the control group (Group A) and the test group (Group B).\n",
    "\n",
    "**Alternative Hypothesis (H1):** There is a significant difference in the Click-Through Rate (CTR) between the control group (Group A) and the test group (Group B)."
   ]
  },
  {
   "cell_type": "code",
   "execution_count": 17,
   "metadata": {},
   "outputs": [
    {
     "name": "stdout",
     "output_type": "stream",
     "text": [
      "Mann-Whitney U Test for CTR:\n",
      "Statistic = 193.0000\n",
      "p-value = 0.0003\n",
      "\n",
      "Mann-Whitney U Test for Conversion Rate:\n",
      "Statistic = 503.0000\n",
      "p-value = 0.3061\n",
      "\n",
      "Reject the null hypothesis for CTR. There is a significant difference.\n",
      "Fail to reject the null hypothesis for Conversion Rate. There is no significant difference.\n"
     ]
    }
   ],
   "source": [
    "# Perform Mann-Whitney U test for CTR\n",
    "statistic_ctr, p_value_ctr = mannwhitneyu(control_df['CTR'], test_df['CTR'])\n",
    "\n",
    "# Perform Mann-Whitney U test for Conversion Rate\n",
    "statistic_conversion, p_value_conversion = mannwhitneyu(control_df['Conversion Rate'], test_df['Conversion Rate'])\n",
    "\n",
    "# Print the results\n",
    "print(f'Mann-Whitney U Test for CTR:\\n'\n",
    "      f'Statistic = {statistic_ctr:.4f}\\n'\n",
    "      f'p-value = {p_value_ctr:.4f}\\n')\n",
    "\n",
    "print(f'Mann-Whitney U Test for Conversion Rate:\\n'\n",
    "      f'Statistic = {statistic_conversion:.4f}\\n'\n",
    "      f'p-value = {p_value_conversion:.4f}\\n')\n",
    "\n",
    "\n",
    "alpha = 0.05  \n",
    "if p_value_ctr < alpha:\n",
    "    print('Reject the null hypothesis for CTR. There is a significant difference.')\n",
    "else:\n",
    "    print('Fail to reject the null hypothesis for CTR. There is no significant difference.')\n",
    "\n",
    "if p_value_conversion < alpha:\n",
    "    print('Reject the null hypothesis for Conversion Rate. There is a significant difference.')\n",
    "else:\n",
    "    print('Fail to reject the null hypothesis for Conversion Rate. There is no significant difference.')"
   ]
  },
  {
   "cell_type": "code",
   "execution_count": null,
   "metadata": {},
   "outputs": [],
   "source": []
  },
  {
   "cell_type": "markdown",
   "metadata": {},
   "source": [
    "For Average Order Value (AOV):\n",
    "\n",
    "**Null Hypothesis (H0):** There is no significant difference in the Average Order Value (AOV) between the control group (Group A) and the test group (Group B).\n",
    "\n",
    "**Alternative Hypothesis (H1):** There is a significant difference in the Average Order Value (AOV) between the control group (Group A) and the test group (Group B)."
   ]
  },
  {
   "cell_type": "code",
   "execution_count": 22,
   "metadata": {},
   "outputs": [
    {
     "name": "stdout",
     "output_type": "stream",
     "text": [
      "Mann-Whitney U Test for AOV:\n",
      "Statistic = 362.0000\n",
      "p-value = 0.2717\n",
      "\n",
      "Fail to reject the null hypothesis for AOV. There is no significant difference.\n"
     ]
    }
   ],
   "source": [
    "# Perform Mann-Whitney U test for AOV\n",
    "statistic_aov, p_value_aov = mannwhitneyu(control_df['AOV'], test_df['AOV'])\n",
    "\n",
    "# Print the results\n",
    "print(f'Mann-Whitney U Test for AOV:\\n'\n",
    "      f'Statistic = {statistic_aov:.4f}\\n'\n",
    "      f'p-value = {p_value_aov:.4f}\\n')\n",
    "\n",
    "\n",
    "alpha = 0.05 \n",
    "if p_value_aov < alpha:\n",
    "    print('Reject the null hypothesis for AOV. There is a significant difference.')\n",
    "else:\n",
    "    print('Fail to reject the null hypothesis for AOV. There is no significant difference.')"
   ]
  },
  {
   "cell_type": "code",
   "execution_count": null,
   "metadata": {},
   "outputs": [],
   "source": []
  }
 ],
 "metadata": {
  "kernelspec": {
   "display_name": "Marketing_Campaign_ABtesting",
   "language": "python",
   "name": "python3"
  },
  "language_info": {
   "codemirror_mode": {
    "name": "ipython",
    "version": 3
   },
   "file_extension": ".py",
   "mimetype": "text/x-python",
   "name": "python",
   "nbconvert_exporter": "python",
   "pygments_lexer": "ipython3",
   "version": "3.8.15"
  }
 },
 "nbformat": 4,
 "nbformat_minor": 2
}
